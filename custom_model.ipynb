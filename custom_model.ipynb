{
 "cells": [
  {
   "cell_type": "code",
   "execution_count": 1,
   "metadata": {},
   "outputs": [],
   "source": [
    "from santiago import create_model, upload_image_samples, queue_training_job, get_model_version, generate_image, get_inference_job\n",
    "import time"
   ]
  },
  {
   "cell_type": "code",
   "execution_count": 2,
   "metadata": {},
   "outputs": [
    {
     "name": "stdout",
     "output_type": "stream",
     "text": [
      "b8bb1bfe-d7c2-48d9-8312-de0085ed1717\n"
     ]
    }
   ],
   "source": [
    "# create a custom model\n",
    "model_id = create_model(\"Sample\")\n",
    "print(model_id)"
   ]
  },
  {
   "cell_type": "code",
   "execution_count": 3,
   "metadata": {},
   "outputs": [],
   "source": [
    "# upload images to tune the model\n",
    "upload_image_samples(model_id)"
   ]
  },
  {
   "cell_type": "code",
   "execution_count": 4,
   "metadata": {},
   "outputs": [
    {
     "name": "stdout",
     "output_type": "stream",
     "text": [
      "{\"statusCode\":402,\"message\":\"You have used all of your Workspace free credits. Please upgrade to a paid account to continue using Leap.\"}\n"
     ]
    },
    {
     "ename": "KeyError",
     "evalue": "'id'",
     "output_type": "error",
     "traceback": [
      "\u001b[0;31m---------------------------------------------------------------------------\u001b[0m",
      "\u001b[0;31mKeyError\u001b[0m                                  Traceback (most recent call last)",
      "Cell \u001b[0;32mIn[4], line 2\u001b[0m\n\u001b[1;32m      1\u001b[0m \u001b[39m# queue the model for fine tuning\u001b[39;00m\n\u001b[0;32m----> 2\u001b[0m version_id, status \u001b[39m=\u001b[39m queue_training_job(model_id)\t\n",
      "File \u001b[0;32m~/repos/generate_ai_photos/santiago.py:51\u001b[0m, in \u001b[0;36mqueue_training_job\u001b[0;34m(model_id)\u001b[0m\n\u001b[1;32m     48\u001b[0m data \u001b[39m=\u001b[39m json\u001b[39m.\u001b[39mloads(response\u001b[39m.\u001b[39mtext)\n\u001b[1;32m     49\u001b[0m \u001b[39mprint\u001b[39m(response\u001b[39m.\u001b[39mtext)\n\u001b[0;32m---> 51\u001b[0m version_id \u001b[39m=\u001b[39m data[\u001b[39m\"\u001b[39;49m\u001b[39mid\u001b[39;49m\u001b[39m\"\u001b[39;49m]\n\u001b[1;32m     52\u001b[0m status \u001b[39m=\u001b[39m data[\u001b[39m\"\u001b[39m\u001b[39mstatus\u001b[39m\u001b[39m\"\u001b[39m]\n\u001b[1;32m     53\u001b[0m \u001b[39mprint\u001b[39m(\u001b[39mf\u001b[39m\u001b[39m\"\u001b[39m\u001b[39mVersion ID: \u001b[39m\u001b[39m{\u001b[39;00mversion_id\u001b[39m}\u001b[39;00m\u001b[39m. Status: \u001b[39m\u001b[39m{\u001b[39;00mstatus\u001b[39m}\u001b[39;00m\u001b[39m\"\u001b[39m)\n",
      "\u001b[0;31mKeyError\u001b[0m: 'id'"
     ]
    }
   ],
   "source": [
    "# queue the model for fine tuning\n",
    "version_id, status = queue_training_job(model_id)\t"
   ]
  },
  {
   "cell_type": "code",
   "execution_count": null,
   "metadata": {},
   "outputs": [],
   "source": [
    "# fine tune the model\n",
    "while status != \"finished\":\n",
    "\ttime.sleep(10)\n",
    "\tversion_id, status = get_model_version(model_id, version_id)\n"
   ]
  },
  {
   "cell_type": "code",
   "execution_count": null,
   "metadata": {},
   "outputs": [],
   "source": [
    "# generate an image from a prompt\n",
    "# note: `@me` is a special designation to indicate we want the generated\n",
    "#       image to have the same subject as the uploaded images\n",
    "prompt = \"A photo of @me with a tall black hat and sunglasses\" \n",
    "\n",
    "inference_id, status = generate_image(model_id, prompt)"
   ]
  },
  {
   "cell_type": "code",
   "execution_count": null,
   "metadata": {},
   "outputs": [],
   "source": [
    "# now that it's queued, let's iterate to get the final image\n",
    "while status != \"finished\":\n",
    "\ttime.sleep(10)\n",
    "\tinference_id, status, image = get_inference_job(model_id, inference_id)"
   ]
  },
  {
   "cell_type": "code",
   "execution_count": null,
   "metadata": {},
   "outputs": [],
   "source": []
  }
 ],
 "metadata": {
  "kernelspec": {
   "display_name": "venv",
   "language": "python",
   "name": "python3"
  },
  "language_info": {
   "codemirror_mode": {
    "name": "ipython",
    "version": 3
   },
   "file_extension": ".py",
   "mimetype": "text/x-python",
   "name": "python",
   "nbconvert_exporter": "python",
   "pygments_lexer": "ipython3",
   "version": "3.11.0"
  },
  "orig_nbformat": 4
 },
 "nbformat": 4,
 "nbformat_minor": 2
}
